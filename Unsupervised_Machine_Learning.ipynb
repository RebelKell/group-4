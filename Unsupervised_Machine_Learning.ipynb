{
 "cells": [
  {
   "cell_type": "code",
   "execution_count": 2,
   "metadata": {},
   "outputs": [],
   "source": [
    "#import dependancies\n",
    "\n",
    "import pandas as pd\n",
    "from sklearn.preprocessing import StandardScaler\n",
    "#from sklearn.decomposition import PCA\n",
    "from sklearn.cluster import AgglomerativeClustering\n",
    "import hvplot.pandas\n",
    "import plotly.figure_factory as ff\n"
   ]
  },
  {
   "cell_type": "code",
   "execution_count": null,
   "metadata": {},
   "outputs": [],
   "source": [
    "# Create/Import Dataframe?\n",
    "\n"
   ]
  },
  {
   "cell_type": "code",
   "execution_count": 3,
   "metadata": {},
   "outputs": [],
   "source": [
    "# Create the dendogram\n",
    "\n",
    "#fig = ff.create_dendrogram(DATAFRAME, THREASHOLD=)\n",
    "#fig.update_layout(width=800, height=500)\n",
    "#fig.show()"
   ]
  },
  {
   "cell_type": "code",
   "execution_count": null,
   "metadata": {},
   "outputs": [],
   "source": [
    "# Create Agglomerative clustering\n",
    "\n",
    "#agg = AgglomerativeClustering(n_cluters=X)\n",
    "#model = agg.fit(DATAFRAME)\n",
    "\n"
   ]
  },
  {
   "cell_type": "code",
   "execution_count": null,
   "metadata": {},
   "outputs": [],
   "source": [
    "# Creating plot to show results\n",
    "\n",
    "#DATAFRAME.hvplot.scatter(\n",
    "#    x=\"prinicpal compenent 1\",\n",
    "#    y= \"prinicpal component 2\",\n",
    "#    hover_cols=[\"class\"],\n",
    "#    by=\"class\",\n",
    "# )"
   ]
  }
 ],
 "metadata": {
  "kernelspec": {
   "display_name": "Python 3.7.13 ('mlenv')",
   "language": "python",
   "name": "python3"
  },
  "language_info": {
   "codemirror_mode": {
    "name": "ipython",
    "version": 3
   },
   "file_extension": ".py",
   "mimetype": "text/x-python",
   "name": "python",
   "nbconvert_exporter": "python",
   "pygments_lexer": "ipython3",
   "version": "3.7.13"
  },
  "orig_nbformat": 4,
  "vscode": {
   "interpreter": {
    "hash": "905bdfe17ff4f5b0056d090a2c1b72b1817d291a06feebd6e3dfcebd3d1084c2"
   }
  }
 },
 "nbformat": 4,
 "nbformat_minor": 2
}
